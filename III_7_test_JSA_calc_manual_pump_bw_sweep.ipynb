{
 "cells": [
  {
   "cell_type": "markdown",
   "metadata": {},
   "source": [
    "# Tests JSA calculation class"
   ]
  },
  {
   "cell_type": "code",
   "execution_count": null,
   "metadata": {},
   "outputs": [],
   "source": [
    "import matplotlib.pyplot as plt\n",
    "import numpy as np\n",
    "from scipy.io import savemat\n",
    "from matplotlib.ticker import MaxNLocator\n",
    "\n",
    "from topdc_calc import topdc_calc"
   ]
  },
  {
   "cell_type": "markdown",
   "metadata": {},
   "source": [
    "#### Import the dispersion parameters"
   ]
  },
  {
   "cell_type": "code",
   "execution_count": null,
   "metadata": {},
   "outputs": [],
   "source": [
    "#Dispersion import \n",
    "\n",
    "dispdata=np.load('disp_data.npy',allow_pickle=True).item()\n",
    "omf=dispdata['omf']\n",
    "triplet_neff=dispdata['triplet_neff']\n",
    "omp=dispdata['omp']\n",
    "pump_neff=dispdata['pump_neff']\n",
    "wp_cutoff=9.8  #Pump mode cutoff frequency in 10^14 rad/s\n",
    "\n",
    "test=topdc_calc(omf,triplet_neff,omp,pump_neff,wp_cutoff)"
   ]
  },
  {
   "cell_type": "code",
   "execution_count": 3,
   "metadata": {},
   "outputs": [],
   "source": [
    "# Declaration of variables\n",
    "\n",
    "c0=3 # Velocity of light in vacuum in um/(1e-14 s)\n",
    "L=300000 # Waveguide length in um ->10000 um=1 cm\n",
    "\n",
    "wf0=test.w_pm(13)   # Triplet phase-matching frequency in 10^14 rad/s (The input parameter 13  is the initial guess for the triplet central frequency--> You can check this by plotting the dispersion of the pump and triplet modes) \n",
    "wp0=3*wf0   # Pump phase-matching frequency in 10^14 rad/s "
   ]
  },
  {
   "cell_type": "code",
   "execution_count": 4,
   "metadata": {},
   "outputs": [
    {
     "name": "stdout",
     "output_type": "stream",
     "text": [
      "Triplet central frequency: 13.696149605647763 [x10^14 rad/s]\n",
      "Triplet central wavelength: 1.3762667949951373 um\n",
      "Pump central frequency: 41.08844881694329 [x10^14 rad/s]\n",
      "Pump central wavelength: 0.45875559833171237 um\n"
     ]
    }
   ],
   "source": [
    "print('Triplet central frequency: '+str(wf0)+' [x10^14 rad/s]')\n",
    "print('Triplet central wavelength: '+str(2*np.pi*c0/wf0)+' um')\n",
    "print('Pump central frequency: '+str(wp0)+' [x10^14 rad/s]')\n",
    "print('Pump central wavelength: '+str(2*np.pi*c0/wp0)+' um')"
   ]
  },
  {
   "cell_type": "code",
   "execution_count": 5,
   "metadata": {},
   "outputs": [
    {
     "name": "stdout",
     "output_type": "stream",
     "text": [
      "960\n"
     ]
    }
   ],
   "source": [
    "#Evaluation of the JSA\n",
    "\n",
    "# Spectral resolution\n",
    "sigmap=test.pm_bw(L,13) #Half-width (at 1/e-pump intensity point) matching approximately the width of the phase-matching function, measured in terms of the sinc's main lobe width\n",
    "delw=sigmap/60 # The spectral resolution is defined such that a minimum of 60 discrete points are sampled within each frequency vector over the bandwidth of the phase-matching function, regardless of the specific width of the evaluation function.\n",
    "\n",
    "#Spectral window\n",
    "domg=8*sigmap # We set the half-width of the frequency window wide enough to sample correctly both the jsa and reduced density matrix\n",
    "omf1=np.arange(wf0-domg,wf0+domg,delw) # Frequency evaluation vector centered at the photon triplet phase-matching frequency with units 10^14 rad/s\n",
    "print(omf1.size) # Note: Always check the frequency vector size, because later we are going to build a 3D grid with it, which greatly affects the memory usage. "
   ]
  },
  {
   "cell_type": "markdown",
   "metadata": {},
   "source": [
    "We are going to filter outside the frequencies $[12.5,14.5]\\times~10^{14}$ rad/s."
   ]
  },
  {
   "cell_type": "code",
   "execution_count": 6,
   "metadata": {},
   "outputs": [],
   "source": [
    "wlow=12.5 # Filter lower limit\n",
    "whigh=14.5  # Filter higher limit\n",
    "\n",
    "jnpts=50\n",
    "sigma_vec=np.linspace(1e-24,10*sigmap,jnpts)"
   ]
  },
  {
   "cell_type": "code",
   "execution_count": 7,
   "metadata": {},
   "outputs": [
    {
     "name": "stderr",
     "output_type": "stream",
     "text": [
      "/home/gisell/triplet_purity/topdc_calc.py:1207: RuntimeWarning: invalid value encountered in scalar divide\n",
      "  purity = np.sum(S) ** 2 / np.sum(S**2)\n"
     ]
    },
    {
     "name": "stdout",
     "output_type": "stream",
     "text": [
      "0 nan\n",
      "1 3.2414854083441664\n",
      "2 1.8783162294478664\n",
      "3 1.5313404778263668\n",
      "4 1.4370010295292504\n",
      "5 1.4442422987865489\n",
      "6 1.4985198596213047\n",
      "7 1.5715805508518603\n",
      "8 1.6478628226886578\n",
      "9 1.719649212974988\n",
      "10 1.7838387184347575\n",
      "11 1.8397580473228723\n",
      "12 1.8878585613794119\n",
      "13 1.9290216976597852\n",
      "14 1.964221068386684\n",
      "15 1.9943741102992856\n",
      "16 2.0202877860303943\n",
      "17 2.042648030934809\n",
      "18 2.062027781064502\n",
      "19 2.078901529900417\n",
      "20 2.093660939517838\n",
      "21 2.1066292348300224\n",
      "22 2.1180736183370783\n",
      "23 2.128215618442317\n",
      "24 2.1372395588713218\n",
      "25 2.1452994238058474\n",
      "26 2.152524397415603\n",
      "27 2.1590233275808437\n",
      "28 2.164888325004608\n",
      "29 2.170197670804795\n",
      "30 2.1750181719936355\n",
      "31 2.1794070760403996\n",
      "32 2.1834136327686267\n",
      "33 2.187080373487336\n",
      "34 2.190444162716555\n",
      "35 2.1935370664073717\n",
      "36 2.19638707154327\n",
      "37 2.199018684922506\n",
      "38 2.201453433343632\n",
      "39 2.203710283018429\n",
      "40 2.2058059925599025\n",
      "41 2.207755411136921\n",
      "42 2.2095717311953855\n",
      "43 2.2112667033964564\n",
      "44 2.2128508200219854\n",
      "45 2.214333471971467\n",
      "46 2.2157230835671764\n",
      "47 2.2170272286492545\n",
      "48 2.218252730845922\n",
      "49 2.2194057504170894\n"
     ]
    }
   ],
   "source": [
    "purevec=np.zeros_like(sigma_vec)\n",
    "for i,sig in enumerate(sigma_vec):\n",
    "    jsa_data=test.rho_filter(omf1[:,None,None],omf1[None,:,None],omf1[None,None,:],L,wp0,sig,wlow,whigh)  # Evaluation of the jsa calculation function\n",
    "    purevec[i]=jsa_data.purity\n",
    "    print(i,purevec[i])\n",
    "    del jsa_data"
   ]
  },
  {
   "cell_type": "code",
   "execution_count": 10,
   "metadata": {},
   "outputs": [
    {
     "name": "stderr",
     "output_type": "stream",
     "text": [
      "/tmp/ipykernel_3441632/311430261.py:13: UserWarning: No artists with labels found to put in legend.  Note that artists whose label start with an underscore are ignored when legend() is called with no argument.\n",
      "  plt.legend(prop={'size':10})\n"
     ]
    },
    {
     "data": {
      "image/png": "[encoded data removed]",
      "text/plain": [
       "<Figure size 640x480 with 1 Axes>"
      ]
     },
     "metadata": {},
     "output_type": "display_data"
    }
   ],
   "source": [
    "font={'size':20}\n",
    "plt.rc('font',**font)\n",
    "\n",
    "fig1, axs1 = plt.subplots(1, 1, sharex=True, sharey=True, constrained_layout=True)\n",
    "\n",
    "\n",
    "plt.plot(sigma_vec/sigmap,purevec,linewidth=2.5)\n",
    "plt.plot(sigma_vec/sigmap,purevec,'ko',linewidth=2.5)\n",
    "plt.xlabel(r'$\\sigma/\\sigma_{PM}$') \n",
    "plt.ylabel(r\"$\\kappa$\") \n",
    "# plt.xlim(omf[0]/jnp.sqrt(jnp.pi),omf[-1]/jnp.sqrt(jnp.pi))\n",
    "  \n",
    "plt.legend(prop={'size':10})\n",
    "\n",
    "plt.savefig(\"Figures_export/Fiber_pump_bw_sweep.pdf\", format=\"pdf\", bbox_inches=\"tight\")\n",
    "plt.show()"
   ]
  },
  {
   "cell_type": "markdown",
   "metadata": {},
   "source": [
    "### Data export"
   ]
  },
  {
   "cell_type": "code",
   "execution_count": null,
   "metadata": {},
   "outputs": [],
   "source": [
    "puredict={ \n",
    "    \"tag\":\"Ideal case- Optimal pump bandwidth\",\n",
    "    \"sigma\":sigma_vec, \n",
    "    \"purity\":purevec\n",
    "}\n",
    "savemat(\"Data_export/Fiber_data_pump_bandwidth_sweep.mat\",puredict)"
   ]
  }
 ],
 "metadata": {
  "kernelspec": {
   "display_name": "jsa_calc",
   "language": "python",
   "name": "python3"
  },
  "language_info": {
   "codemirror_mode": {
    "name": "ipython",
    "version": 3
   },
   "file_extension": ".py",
   "mimetype": "text/x-python",
   "name": "python",
   "nbconvert_exporter": "python",
   "pygments_lexer": "ipython3",
   "version": "3.11.11"
  }
 },
 "nbformat": 4,
 "nbformat_minor": 2
}
