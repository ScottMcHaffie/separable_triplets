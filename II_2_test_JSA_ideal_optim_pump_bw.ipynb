{
 "cells": [
  {
   "cell_type": "markdown",
   "metadata": {},
   "source": [
    "# Separable JSA for photon triplets"
   ]
  },
  {
   "cell_type": "markdown",
   "metadata": {},
   "source": [
    "# Ideal case for waveguides"
   ]
  },
  {
   "cell_type": "markdown",
   "metadata": {},
   "source": [
    "## Conditions: phase-matching, group-velocity matching, $\\beta_F\\gg\\beta_P$"
   ]
  },
  {
   "cell_type": "markdown",
   "metadata": {},
   "source": [
    "### Minimal working example"
   ]
  },
  {
   "cell_type": "code",
   "execution_count": 1,
   "metadata": {},
   "outputs": [],
   "source": [
    "import jax\n",
    "jax.config.update(\"jax_enable_x64\", True)\n",
    "import jax.numpy as jnp\n",
    "import numpy as np\n",
    "import matplotlib.pyplot as plt\n",
    "from scipy.io import savemat\n",
    "from matplotlib.ticker import FormatStrFormatter"
   ]
  },
  {
   "cell_type": "markdown",
   "metadata": {},
   "source": [
    "**Phase-mismatch Taylor expansion**\n",
    "\n",
    "$$\n",
    "\\frac{\\ell}{2} \\Delta k\\left(\\delta\\omega_1,\\delta\\omega_2,\\delta\\omega_3\\right)=\\tau_1 \\left(\\delta\\omega_1+\\delta\\omega_2+\\delta\\omega_3\\right)+\\tau_P^2\\left(\\delta\\omega_1+\\delta\\omega_2+\\delta\\omega_3\\right)^2-\\tau_F^2\\left(\\delta\\omega_1^2+\\delta\\omega_2^2+\\delta\\omega_3^2\\right),$$\n",
    "\n",
    "where \n",
    "\n",
    "$$\\tau_1=\\frac{L}{2}\\left(\\frac{1}{v_{g_{P}}}-\\frac{1}{v_{g_{F}}}\\right),~\\tau_P^2=\\frac{L}{4}\\beta_{2_P},~\\tau_F^2=\\frac{L}{4}\\beta_{2_F}.$$\n",
    "\n",
    "**Phase-mismatch expansion in scaled units**\n",
    "\n",
    "Defining scaled frequencies $w_1,~w_2,~w_3~=~\\tau_F~\\delta\\omega_1,~\\tau_F~\\delta\\omega_2,~\\tau_F~\\delta\\omega_3$, we have\n",
    "\n",
    "$$\\frac{\\ell}{2} \\Delta k\\left(w_1,~w_2,~w_3\\right)=\\frac{\\tau_1}{\\tau_F} \\left(w_1+~w_2+~w_3\\right)+\\frac{\\tau_P^2}{\\tau_F^2}\\left(w_1+~w_2+~w_3\\right)^2-\\left(w_1^2+w_2^2+w_3^2\\right),$$\n",
    "\n",
    "**Pump envelope function in scaled units**\n",
    "\n",
    "Defining a gaussian pump:\n",
    "\n",
    "$$\\alpha \\left(\\delta\\omega_1,\\delta\\omega_2,\\delta\\omega_3\\right)= \\exp \\left(-\\frac{1}{2}T^2\\left(\\delta\\omega_1+\\delta\\omega_2+\\delta\\omega_3\\right)^2\\right)$$\n",
    "\n",
    "We can now write it in scaled units as\n",
    "\n",
    "$$\\alpha \\left(w_1,~w_2,~w_3\\right)= \\exp \\left(-\\frac{1}{2}\\frac{T^2}{\\tau_F^2}\\left(w_1+w_2+w_3\\right)^2\\right)$$"
   ]
  },
  {
   "cell_type": "code",
   "execution_count": 2,
   "metadata": {},
   "outputs": [],
   "source": [
    "#Wavevector expansion: Phase mismatch calculation\n",
    "def ldelk(tau1, taup,tauf,w1,w2,w3): \n",
    "    ldelk=(tau1/tauf)*(w1+w2+w3)+((taup**2)/(tauf**2))*(w1*w2+w2*w3+w1*w3)+(w1**2+w2**2+w3**2)\n",
    "    return ldelk"
   ]
  },
  {
   "cell_type": "code",
   "execution_count": 3,
   "metadata": {},
   "outputs": [],
   "source": [
    "#JSA-Using the Taylor expansion of the wavevector\n",
    "def JSAD(tau1, taup,tauf,w1,w2,w3,T0):\n",
    "    jsad=jnp.sinc((1/(jnp.pi))*(ldelk(tau1, taup,tauf,w1,w2,w3)))*jnp.exp(-(1/2)*(T0**2/tauf**2)*((w1+w2+w3))**2)\n",
    "    return jsad"
   ]
  },
  {
   "cell_type": "markdown",
   "metadata": {},
   "source": [
    "### Experiment: Pump bandwidth sweep"
   ]
  },
  {
   "cell_type": "code",
   "execution_count": 4,
   "metadata": {},
   "outputs": [],
   "source": [
    "#Conditions\n",
    "tau11=0  # Group-velocity matching\n",
    "taup1=0  # \\beta_P << \\beta_F -->\\beta_P negligible in comparison to \\beta_F\n",
    "tauf1=1  # \\beta_F >> \\beta_P\n",
    "sigmapm0=jnp.sqrt(jnp.pi)/tauf1 # Approximate HWHM of the phase-matching function, measured in terms of the sinc's main lobe width\n",
    "\n",
    "jnpts=100\n",
    "sigma_vec=jnp.linspace(1e-24,10*sigmapm0,jnpts)\n",
    "T01=1/sigma_vec # Matching the phase-matching bandwidth"
   ]
  },
  {
   "cell_type": "code",
   "execution_count": 5,
   "metadata": {},
   "outputs": [
    {
     "name": "stdout",
     "output_type": "stream",
     "text": [
      "600\n"
     ]
    }
   ],
   "source": [
    "# Spectral resolution\n",
    "delw=sigmapm0/30 # The spectral resolution is defined such that a minimum of 30 discrete points are sampled within each frequency vector over the bandwidth of the phase-matching function, regardless of the specific width of the evaluation function.\n",
    "\n",
    "#Spectral window\n",
    "domg=10*sigmapm0 # We set the half-width of the frequency window wide enough to sample correctly both the jsa and reduced density matrix\n",
    "omf=jnp.arange(-domg,domg,delw)\n",
    "print(omf.size) # Note: Always check the frequency vector size, because later we are going to build a 3D grid with it, which greatly affects  the memory usage. "
   ]
  },
  {
   "cell_type": "code",
   "execution_count": 6,
   "metadata": {},
   "outputs": [
    {
     "name": "stdout",
     "output_type": "stream",
     "text": [
      "0 nan\n",
      "1 5.187968717346277\n",
      "2 2.7350380017597358\n",
      "3 1.9732150628262464\n",
      "4 1.632606112692926\n",
      "5 1.4583376998163327\n",
      "6 1.363712764805325\n",
      "7 1.3108114997422358\n",
      "8 1.2808945338845854\n",
      "9 1.2641370036347563\n",
      "10 1.2551840611663605\n",
      "11 1.251008551015171\n",
      "12 1.2498345222305909\n",
      "13 1.2505822856619728\n",
      "14 1.2525739771768296\n",
      "15 1.2553720097792624\n",
      "16 1.258687254111284\n",
      "17 1.2623250260785\n",
      "18 1.2661522827974727\n",
      "19 1.2700771142799525\n",
      "20 1.274035586392194\n",
      "21 1.2779831042588257\n",
      "22 1.2818886269313254\n",
      "23 1.2857307220647751\n",
      "24 1.2894948326160223\n",
      "25 1.2931713567366292\n",
      "26 1.2967542823644727\n",
      "27 1.3002402058506695\n",
      "28 1.3036276200432462\n",
      "29 1.3069163937209756\n",
      "30 1.3101073883888288\n",
      "31 1.3132021746416684\n",
      "32 1.31620282133182\n",
      "33 1.3191117383855608\n",
      "34 1.3219315594261478\n",
      "35 1.3246650541118974\n",
      "36 1.3273150627725951\n",
      "37 1.329884447853648\n",
      "38 1.3323760580757344\n",
      "39 1.3347927022419888\n",
      "40 1.3371371303797575\n",
      "41 1.3394120204648488\n",
      "42 1.3416199693952364\n",
      "43 1.3437634871963011\n",
      "44 1.3458449936773829\n",
      "45 1.3478668169404746\n",
      "46 1.3498311932794016\n",
      "47 1.351740268113559\n",
      "48 1.353596097681299\n",
      "49 1.3554006512807322\n",
      "50 1.3571558138939446\n",
      "51 1.3588633890683957\n",
      "52 1.360525101958221\n",
      "53 1.362142602451164\n",
      "54 1.3637174683243\n",
      "55 1.3652512083858521\n",
      "56 1.3667452655710788\n",
      "57 1.3682010199686963\n",
      "58 1.369619791760903\n",
      "59 1.3710028440653181\n",
      "60 1.372351385670988\n",
      "61 1.3736665736639249\n",
      "62 1.374949515939797\n",
      "63 1.3762012736035463\n",
      "64 1.3774228632567318\n",
      "65 1.378615259174762\n",
      "66 1.379779395376768\n",
      "67 1.3809161675914496\n",
      "68 1.3820264351226819\n",
      "69 1.38311102261876\n",
      "70 1.3841707217495263\n",
      "71 1.385206292795409\n",
      "72 1.386218466152716\n",
      "73 1.387207943759098\n",
      "74 1.3881754004434537\n",
      "75 1.3891214852039986\n",
      "76 1.3900468224184108\n",
      "77 1.390952012989683\n",
      "78 1.3918376354311544\n",
      "79 1.3927042468940956\n",
      "80 1.3935523841410185\n",
      "81 1.394382564467743\n",
      "82 1.3951952865771224\n",
      "83 1.3959910314070825\n",
      "84 1.3967702629156484\n",
      "85 1.3975334288252963\n",
      "86 1.3982809613290157\n",
      "87 1.3990132777601656\n",
      "88 1.399730781228268\n",
      "89 1.4004338612225615\n",
      "90 1.401122894185208\n",
      "91 1.4017982440558079\n",
      "92 1.4024602627889051\n",
      "93 1.403109290845847\n",
      "94 1.403745657662625\n",
      "95 1.4043696820948532\n",
      "96 1.4049816728412505\n",
      "97 1.4055819288467568\n",
      "98 1.40617073968645\n",
      "99 1.4067483859312229\n"
     ]
    }
   ],
   "source": [
    "purevec=np.zeros_like(sigma_vec)\n",
    "for i,t in enumerate(T01):\n",
    "    JSA_3D=JSAD(tau11,taup1,tauf1,omf[:,None,None],omf[None,:,None],omf[None,None,:],t) \n",
    "    rho_aD=jnp.einsum('ijk,ljk->il',JSA_3D,jnp.conj(JSA_3D))\n",
    "    U,S,Vh=jnp.linalg.svd(rho_aD,full_matrices=True, hermitian=True)\n",
    "    purevec[i]=jnp.sum(S)**2/jnp.sum(S**2)\n",
    "    print(i,purevec[i])\n",
    "    del JSA_3D,rho_aD,U,S,Vh"
   ]
  },
  {
   "cell_type": "code",
   "execution_count": 7,
   "metadata": {},
   "outputs": [
    {
     "data": {
      "image/png": "[encoded data removed]",
      "text/plain": [
       "<Figure size 640x480 with 1 Axes>"
      ]
     },
     "metadata": {},
     "output_type": "display_data"
    }
   ],
   "source": [
    "font={'size':20}\n",
    "plt.rc('font',**font)\n",
    "\n",
    "fig1, axs1 = plt.subplots(1, 1, sharex=True, sharey=True, constrained_layout=True)\n",
    "\n",
    "\n",
    "plt.plot(sigma_vec/sigmapm0,purevec,label='Purity',linewidth=2.5)\n",
    "plt.plot(sigma_vec/sigmapm0,purevec,'ko',linewidth=2.5)\n",
    "plt.xlabel(r'$\\sigma/\\sigma_{PM}$') \n",
    "plt.ylabel(r\"$\\kappa$\") \n",
    "# plt.xlim(omf[0]/jnp.sqrt(jnp.pi),omf[-1]/jnp.sqrt(jnp.pi))\n",
    "  \n",
    "plt.legend(prop={'size':10})\n",
    "\n",
    "# plt.savefig(\"Figures_export/Weighted_modes_ideal.pdf\", format=\"pdf\", bbox_inches=\"tight\")\n",
    "plt.show()"
   ]
  },
  {
   "cell_type": "code",
   "execution_count": 8,
   "metadata": {},
   "outputs": [
    {
     "data": {
      "image/png": "[encoded data removed]",
      "text/plain": [
       "<Figure size 640x480 with 1 Axes>"
      ]
     },
     "metadata": {},
     "output_type": "display_data"
    }
   ],
   "source": [
    "font={'size':20}\n",
    "plt.rc('font',**font)\n",
    "\n",
    "fig2, axs2 = plt.subplots(1, 1, sharex=True, sharey=True, constrained_layout=True)\n",
    "\n",
    "\n",
    "plt.plot(sigma_vec/sigmapm0,purevec,label='Purity',linewidth=2.5)\n",
    "plt.xlabel(r'$\\sigma/\\sigma_{PM}$') \n",
    "plt.ylabel(r\"$\\kappa$\") \n",
    "# plt.xlim(omf[0]/jnp.sqrt(jnp.pi),omf[-1]/jnp.sqrt(jnp.pi))\n",
    "  \n",
    "plt.legend(prop={'size':10})\n",
    "\n",
    "# plt.savefig(\"Figures_export/Weighted_modes_ideal.pdf\", format=\"pdf\", bbox_inches=\"tight\")\n",
    "plt.show()"
   ]
  },
  {
   "cell_type": "markdown",
   "metadata": {},
   "source": [
    "### Data export"
   ]
  },
  {
   "cell_type": "code",
   "execution_count": 9,
   "metadata": {},
   "outputs": [],
   "source": [
    "puredict={\n",
    "    \"tag\":\"Ideal case- Optimal pump bandwidth\",\n",
    "    \"sigma\":sigma_vec,\n",
    "    \"purity\":purevec\n",
    "}\n",
    "savemat(\"Data_export/Ideal_case_pump_bandwidth_sweep.mat\",puredict)\n"
   ]
  },
  {
   "cell_type": "code",
   "execution_count": 11,
   "metadata": {},
   "outputs": [
    {
     "name": "stdout",
     "output_type": "stream",
     "text": [
      "6.5381556848937565\n"
     ]
    }
   ],
   "source": [
    "sig=(1/(4*np.pi))*sigmapm0\n",
    "tsig=1/sig\n",
    "JSA_3D=JSAD(tau11,taup1,tauf1,omf[:,None,None],omf[None,:,None],omf[None,None,:],tsig) \n",
    "rho_aD=jnp.einsum('ijk,ljk->il',JSA_3D,jnp.conj(JSA_3D))\n",
    "U,S,Vh=jnp.linalg.svd(rho_aD,full_matrices=True, hermitian=True)\n",
    "pure=jnp.sum(S)**2/jnp.sum(S**2)\n",
    "print(pure)"
   ]
  },
  {
   "cell_type": "code",
   "execution_count": null,
   "metadata": {},
   "outputs": [],
   "source": []
  }
 ],
 "metadata": {
  "kernelspec": {
   "display_name": "jsa_calc",
   "language": "python",
   "name": "python3"
  },
  "language_info": {
   "codemirror_mode": {
    "name": "ipython",
    "version": 3
   },
   "file_extension": ".py",
   "mimetype": "text/x-python",
   "name": "python",
   "nbconvert_exporter": "python",
   "pygments_lexer": "ipython3",
   "version": "3.11.11"
  }
 },
 "nbformat": 4,
 "nbformat_minor": 2
}
